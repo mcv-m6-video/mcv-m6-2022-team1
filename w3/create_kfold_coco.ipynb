{
 "cells": [
  {
   "cell_type": "code",
   "execution_count": 8,
   "metadata": {
    "collapsed": true
   },
   "outputs": [],
   "source": [
    "from pathlib import Path\n",
    "import json"
   ]
  },
  {
   "cell_type": "code",
   "execution_count": 11,
   "outputs": [
    {
     "name": "stdout",
     "output_type": "stream",
     "text": [
      "/home/pau/Documents/master/M6/project/data/AICity_data/AICity_data/train/S03/c010/gt_coco/kfold_0\n",
      "/home/pau/Documents/master/M6/project/data/AICity_data/AICity_data/train/S03/c010/gt_coco/kfold_3\n",
      "/home/pau/Documents/master/M6/project/data/AICity_data/AICity_data/train/S03/c010/gt_coco/kfold_2\n",
      "/home/pau/Documents/master/M6/project/data/AICity_data/AICity_data/train/S03/c010/gt_coco/holdout\n",
      "/home/pau/Documents/master/M6/project/data/AICity_data/AICity_data/train/S03/c010/gt_coco/kfold_1\n"
     ]
    }
   ],
   "source": [
    "gt_path = Path(\n",
    "    \"/home/pau/Documents/master/M6/project/data/AICity_data/AICity_data/train/\"\n",
    "    \"S03/c010/gt_coco\"\n",
    ")\n",
    "\n",
    "change = {\n",
    "    1: 3,\n",
    "    2: 2,\n",
    "}\n",
    "\n",
    "for folder in gt_path.glob(\"*\"):\n",
    "    if folder.is_dir():\n",
    "        print(folder)\n",
    "\n",
    "        with open(folder / \"gt_all_test.json\", 'r') as f_json:\n",
    "            gt_file = json.load(f_json)\n",
    "\n",
    "        for ann in gt_file[\"annotations\"]:\n",
    "            ann[\"category_id\"] = change[ann[\"category_id\"]]\n",
    "\n",
    "        for cl in gt_file[\"categories\"]:\n",
    "            cl[\"id\"] = change[cl[\"id\"]]\n",
    "\n",
    "        gt_file[\"categories\"] += [\n",
    "            {\"id\": x, \"name\": \"<unused>\", \"supercategory\": \"<unused>\"}\n",
    "            for x in range(1, 92) if x not in list(change.values())\n",
    "        ]\n",
    "\n",
    "        # print(gt_file[\"annotations\"][:10])\n",
    "        # print(gt_file[\"categories\"])\n",
    "\n",
    "        with open(folder / \"gt_all_test_cocoid.json\", 'w') as f_json:\n",
    "            json.dump(gt_file, f_json)"
   ],
   "metadata": {
    "collapsed": false,
    "pycharm": {
     "name": "#%%\n"
    }
   }
  }
 ],
 "metadata": {
  "kernelspec": {
   "display_name": "Python 3",
   "language": "python",
   "name": "python3"
  },
  "language_info": {
   "codemirror_mode": {
    "name": "ipython",
    "version": 2
   },
   "file_extension": ".py",
   "mimetype": "text/x-python",
   "name": "python",
   "nbconvert_exporter": "python",
   "pygments_lexer": "ipython2",
   "version": "2.7.6"
  }
 },
 "nbformat": 4,
 "nbformat_minor": 0
}