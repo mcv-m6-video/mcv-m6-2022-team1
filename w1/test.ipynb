{
 "cells": [
  {
   "cell_type": "code",
   "execution_count": 1,
   "metadata": {
    "collapsed": true
   },
   "outputs": [],
   "source": [
    "import xml.etree.ElementTree as ET\n",
    "import pandas as pd\n",
    "import numpy as np\n",
    "import matplotlib.pyplot as plt\n",
    "import matplotlib.patches as patches"
   ]
  },
  {
   "cell_type": "code",
   "execution_count": null,
   "outputs": [],
   "source": [
    "def load_annotations(path: str) -> pd.DataFrame:\n",
    "    \"\"\"\n",
    "    Loads a csv-like annotation file with fields [\"frame\", \"ID\", \"left\", \"top\",\n",
    "    \"width\", \"height\", \"confidence\", \"null1\", \"null2\", \"null3\"] into a pandas\n",
    "    dataframe. Check Nvidia AICity challenge readme for further detail.\n",
    "\n",
    "    Parameters\n",
    "    ----------\n",
    "    path: str\n",
    "        Path string for the input file.\n",
    "\n",
    "    Returns\n",
    "    -------\n",
    "    pd.DataFrame\n",
    "        Pandas dataframe which contains the loaded csv with only the needed\n",
    "        columns [\"frame\", \"ID\", \"left\", \"top\", \"width\", \"height\", \"confidence\"].\n",
    "    \"\"\"\n",
    "    ann = pd.read_csv(\n",
    "        path,\n",
    "        sep=\",\",\n",
    "        names=[\"frame\", \"ID\", \"left\", \"top\", \"width\", \"height\", \"confidence\",\n",
    "               \"null1\", \"null2\", \"null3\"]\n",
    "    )\n",
    "    ann = ann[[\"frame\", \"ID\", \"left\", \"top\", \"width\", \"height\", \"confidence\"]]\n",
    "    return ann\n"
   ],
   "metadata": {
    "collapsed": false,
    "pycharm": {
     "name": "#%%\n"
    }
   }
  },
  {
   "cell_type": "code",
   "execution_count": null,
   "outputs": [],
   "source": [
    "def vectorise_annotations(df: pd.DataFrame) -> np.ndarray:\n",
    "    \"\"\"\n",
    "    From a pandas dataframe with the bounding boxes of a single class and a\n",
    "    single frame, produce a confidence-ordered array of boxes in xyxy format.\n",
    "    The input dataframe should have the same row indices as load_annotations.\n",
    "\n",
    "    Parameters\n",
    "    ----------\n",
    "    df: pd.DataFrame\n",
    "        Pandas dataframe with the same format as produced by the function\n",
    "        load_annotations.\n",
    "\n",
    "    Returns\n",
    "    -------\n",
    "    ArrayLike\n",
    "        Array of shape Nx4 where N is the number of boxes and each component\n",
    "        is a xyxy format bounding box (left, top, right, bottom coordinates).\n",
    "\n",
    "    See Also\n",
    "    --------\n",
    "    load_annotations : load_annotations function.\n",
    "    \"\"\"\n",
    "    df.sort_values(\"confidence\")\n",
    "    xyxy_format = (\n",
    "        df[\"left\"],\n",
    "        df[\"top\"],\n",
    "        df[\"left\"] + df[\"width\"],\n",
    "        df[\"top\"] + df[\"height\"],\n",
    "    )\n",
    "    return np.asarray(xyxy_format).T"
   ],
   "metadata": {
    "collapsed": false,
    "pycharm": {
     "name": "#%%\n"
    }
   }
  },
  {
   "cell_type": "code",
   "execution_count": null,
   "outputs": [],
   "source": [
    "def iou(\n",
    "        gt: np.ndarray,\n",
    "        pred: np.ndarray\n",
    ") -> np.ndarray:\n",
    "    \"\"\"\n",
    "    Returns the Intersection over Union of a given set of \"pred\" grid-aligned\n",
    "    rectangles against a set of reference \"gt\" grid-aligned rectangles.\n",
    "\n",
    "    Parameters\n",
    "    ----------\n",
    "    gt : ArrayLike\n",
    "        Set of grid-aligned rectangles to compare against. Provided as a Nx4\n",
    "        matrix of N points of (x1, y1, x2, y2) coordinates.\n",
    "    pred : ArrayLike\n",
    "        Set of grid-aligned rectangles to be compared. Provided as a Mx4\n",
    "        matrix of M points of (x1, y1, x2, y2) coordinates.\n",
    "\n",
    "    Returns\n",
    "    -------\n",
    "    ArrayLike:\n",
    "        A NxM matrix with the IoU of each cmp rectangle against each reference\n",
    "        rectangle.\n",
    "    \"\"\"\n",
    "    n, m = gt.shape[0], pred.shape[0]\n",
    "    s_gt = np.stack([gt] * m, axis=1)\n",
    "    s_pred = np.stack([pred] * n, axis=0)\n",
    "\n",
    "    # Intersection\n",
    "    intr_x = np.min(np.stack((s_gt[:,:,2], s_pred[:,:,2]), axis=0), axis=0) - \\\n",
    "             np.max(np.stack((s_gt[:,:,0], s_pred[:,:,0]), axis=0), axis=0)\n",
    "    intr_x = np.maximum(intr_x, 0)\n",
    "\n",
    "    intr_y = np.min(np.stack((s_gt[:,:,3], s_pred[:,:,3]), axis=0), axis=0) - \\\n",
    "             np.max(np.stack((s_gt[:,:,1], s_pred[:,:,1]), axis=0), axis=0)\n",
    "    intr_y = np.maximum(intr_y, 0)\n",
    "\n",
    "    intr_t = intr_x * intr_y\n",
    "\n",
    "    # Union\n",
    "    area_r = (s_gt[:,:,2] - s_gt[:,:,0]) * (s_gt[:,:,3] - s_gt[:,:,1])\n",
    "    area_c = (s_pred[:,:,2] - s_pred[:,:,0]) * (s_pred[:,:,3] - s_pred[:,:,1])\n",
    "\n",
    "    union = area_r + area_c - intr_t\n",
    "\n",
    "    iou = intr_t / union\n",
    "\n",
    "    return iou"
   ],
   "metadata": {
    "collapsed": false,
    "pycharm": {
     "name": "#%%\n"
    }
   }
  },
  {
   "cell_type": "code",
   "execution_count": null,
   "outputs": [],
   "source": [
    "def average_precision_frame(\n",
    "        gt: np.ndarray,\n",
    "        pred: np.ndarray,\n",
    "        thresh: float\n",
    ") -> float:\n",
    "    \"\"\"\n",
    "    Computes the average precision for a single frame and class. The input is\n",
    "    assumed to be filtered accordingly.\n",
    "\n",
    "    Parameters\n",
    "    ----------\n",
    "    gt: ArrayLike\n",
    "        Array of shape Nx4 where N is the number of boxes and each component\n",
    "        is a xyxy format bounding box (left, top, right, bottom coordinates).\n",
    "        These represent the ground truth boxes.\n",
    "    pred: ArrayLike\n",
    "        Array of shape Nx4 where N is the number of boxes and each component\n",
    "        is a xyxy format bounding box (left, top, right, bottom coordinates).\n",
    "        These represent a predictions' boxes.\n",
    "    thresh: float\n",
    "        Intersection-over-union threshold. Whenever the area is below this\n",
    "        threshold, the prediction is ignored.\n",
    "\n",
    "    Returns\n",
    "    -------\n",
    "    float\n",
    "        Average precision for the given bounding boxes.\n",
    "    \"\"\"\n",
    "    inter = iou(gt, pred)\n",
    "    ind_max = np.where(inter >= thresh, np.argmax(inter, axis=0), -1)\n",
    "\n",
    "    tp_evol = np.cumsum(ind_max >= 0)\n",
    "    pre = tp_evol / pred.shape[0]\n",
    "    rec = tp_evol / gt.shape[0]\n",
    "\n",
    "    curr_max = -1\n",
    "    out_pre = np.zeros_like(pre)\n",
    "\n",
    "    for ii in range(len(pre)):\n",
    "        curr_max = max(pre[len(pre) - ii - 1], curr_max)\n",
    "        out_pre[len(pre) - ii - 1] = curr_max\n",
    "\n",
    "    sampling_points = np.arange(0.0, 1.01, 0.1)\n",
    "    pre_ind = rec[None,:] >= sampling_points[:, None]\n",
    "    pre_ind = np.argmax(pre_ind, axis=1)\n",
    "\n",
    "    ap = sum(out_pre[pre_ind]) / 11\n",
    "\n",
    "    return ap"
   ],
   "metadata": {
    "collapsed": false,
    "pycharm": {
     "name": "#%%\n"
    }
   }
  },
  {
   "cell_type": "code",
   "execution_count": null,
   "outputs": [],
   "source": [
    "def draw_boxes(\n",
    "        frame: np.ndarray,\n",
    "        gt_coords: np.ndarray,\n",
    "        pd_coords: np.ndarray,\n",
    "        out_path:str=None\n",
    ") -> None:\n",
    "    \"\"\"\n",
    "    Produces a representation of a single frame with the provided ground truth\n",
    "    and predicted bounding boxes drawn accordingly. If an out_path is provided\n",
    "    then the output is not shown as a floating plot, being saved instead into\n",
    "    the specified file instead.\n",
    "\n",
    "    Parameters\n",
    "    ----------\n",
    "    frame: ArrayLike\n",
    "        Image in RGB format to draw.\n",
    "    gt_coords: ArrayLike\n",
    "        Array of shape Nx4 where N is the number of boxes and each component\n",
    "        is a xyxy format bounding box (left, top, right, bottom coordinates).\n",
    "        These represent the ground truth boxes.\n",
    "    pd_coords: ArrayLike\n",
    "        Array of shape Nx4 where N is the number of boxes and each component\n",
    "        is a xyxy format bounding box (left, top, right, bottom coordinates).\n",
    "        These represent the ground truth boxes.\n",
    "    out_path: str\n",
    "        Full filename and path of an output image to save the results.\n",
    "\n",
    "    Returns\n",
    "    -------\n",
    "    None\n",
    "    \"\"\"\n",
    "    plt.figure()\n",
    "    plt.imshow(frame)\n",
    "    plt.axis(\"off\")\n",
    "\n",
    "    for ii in range(gt_coords.shape[0]):\n",
    "        plt.gca().add_patch(\n",
    "            patches.Rectangle(\n",
    "                (gt_coords[ii, 0], gt_coords[ii, 1]),\n",
    "                gt_coords[ii, 2] - gt_coords[ii, 0],\n",
    "                gt_coords[ii, 3] - gt_coords[ii, 1],\n",
    "                color=\"g\",\n",
    "                alpha=0.3,\n",
    "        ))\n",
    "    for ii in range(pd_coords.shape[0]):\n",
    "        plt.gca().add_patch(\n",
    "            patches.Rectangle(\n",
    "                (pd_coords[ii, 0], pd_coords[ii, 1]),\n",
    "                pd_coords[ii, 2] - pd_coords[ii, 0],\n",
    "                pd_coords[ii, 3] - pd_coords[ii, 1],\n",
    "                color=\"r\",\n",
    "                alpha=0.3,\n",
    "            ))\n",
    "    if out_path is not None:\n",
    "        plt.savefig(out_path)\n",
    "    else:\n",
    "        plt.show()\n",
    "    plt.close()"
   ],
   "metadata": {
    "collapsed": false,
    "pycharm": {
     "name": "#%%\n"
    }
   }
  },
  {
   "cell_type": "code",
   "execution_count": 19,
   "outputs": [],
   "source": [
    "def compute_avg_precision(\n",
    "        gt_path: str,\n",
    "        pd_path: str,\n",
    "        alter_prediction: callable = None,\n",
    "        add_params: dict = None,\n",
    ") -> dict:\n",
    "    \"\"\"\n",
    "    Computes the average precision from a prediction file w.r.t. a ground truth\n",
    "    file. Both cases should respect the csv-like annotation format from Nvidia\n",
    "    AICity challenge.\n",
    "\n",
    "    Parameters\n",
    "    ----------\n",
    "    gt_path: str\n",
    "        Path to the ground truth file.\n",
    "    pd_path: str\n",
    "        Path to the prediction file.\n",
    "    alter_prediction: callable\n",
    "        Function to modify the prediction (to test stochastic modifications\n",
    "        for instance).\n",
    "    add_params: dict\n",
    "        Extra parameters for the alter_prediction function.\n",
    "\n",
    "    Returns\n",
    "    -------\n",
    "    dict\n",
    "        A dictionary containing each frame as key and the computed average\n",
    "        precision as value.\n",
    "\n",
    "    See Also\n",
    "    --------\n",
    "    load_annotations : load_annotations function.\n",
    "    \"\"\"\n",
    "    truth = load_annotations(gt_path)\n",
    "    pred = load_annotations(pd_path)\n",
    "\n",
    "    if alter_prediction is not None:\n",
    "        pred = alter_prediction(pred, **add_params)\n",
    "\n",
    "    frame_indices = np.unique(np.concatenate([\n",
    "        pd.unique(truth[\"frame\"]), pd.unique(pred[\"frame\"])\n",
    "    ]))\n",
    "\n",
    "    output = {}\n",
    "\n",
    "    for frame_id in frame_indices:\n",
    "        gt_frame = vectorise_annotations(truth[truth[\"frame\"] == frame_id])\n",
    "        pd_frame = vectorise_annotations(pred[pred[\"frame\"] == frame_id])\n",
    "\n",
    "        if gt_frame.shape[0] == 0 or pd_frame.shape[0] == 0:\n",
    "            output[frame_id] = 0.0\n",
    "        else:\n",
    "            output[frame_id] = average_precision_frame(gt_frame, pd_frame, 0.5)\n",
    "\n",
    "    return output\n"
   ],
   "metadata": {
    "collapsed": false,
    "pycharm": {
     "name": "#%%\n"
    }
   }
  },
  {
   "cell_type": "code",
   "execution_count": 2,
   "outputs": [],
   "source": [
    "ANNOTATION_PATH = \"/home/pau/Documents/master/M6/project/data/ai_challenge_s03_c010-full_annotation.xml\"\n",
    "VIDEO_PATH = \"/home/pau/Documents/master/M6/project/data/AICity_data/AICity_data/train/S03/c010/vdo_frames\"\n",
    "GT_PATH = \"/home/pau/Documents/master/M6/project/data/AICity_data/AICity_data/train/S03/c010/gt/gt.txt\"\n",
    "OUT_PATH = \"/home/pau/Documents/master/M6/project/data/AICity_data/AICity_data/train/S03/c010/vdo_gt_yolo\"\n",
    "\n",
    "DET_RCNN_PATH = \"/home/pau/Documents/master/M6/project/data/AICity_data/AICity_data/train/S03/c010/det/det_mask_rcnn.txt\"\n",
    "DET_SSD_PATH = \"/home/pau/Documents/master/M6/project/data/AICity_data/AICity_data/train/S03/c010/det/det_ssd512.txt\"\n",
    "DET_YOLO_PATH = \"/home/pau/Documents/master/M6/project/data/AICity_data/AICity_data/train/S03/c010/det/det_yolo3.txt\"\n",
    "\n",
    "dataset = ET.parse(ANNOTATION_PATH).getroot()"
   ],
   "metadata": {
    "collapsed": false,
    "pycharm": {
     "name": "#%%\n"
    }
   }
  },
  {
   "cell_type": "code",
   "execution_count": 10,
   "outputs": [],
   "source": [
    "gt = load_annotations(GT_PATH)\n",
    "det_yolo = load_annotations(DET_YOLO_PATH)\n",
    "det_ssd = load_annotations(DET_SSD_PATH)\n",
    "det_rcnn = load_annotations(DET_RCNN_PATH)"
   ],
   "metadata": {
    "collapsed": false,
    "pycharm": {
     "name": "#%%\n"
    }
   }
  },
  {
   "cell_type": "code",
   "execution_count": 21,
   "outputs": [],
   "source": [
    "def dropout_predictions(pred: pd.DataFrame, prob: float) -> pd.DataFrame:\n",
    "    decision = np.random.rand(len(pred)) > prob\n",
    "    pred = pred[decision]\n",
    "    return pred"
   ],
   "metadata": {
    "collapsed": false,
    "pycharm": {
     "name": "#%%\n"
    }
   }
  },
  {
   "cell_type": "code",
   "execution_count": null,
   "outputs": [],
   "source": [
    "compute_avg_precision(GT_PATH, GT_PATH)"
   ],
   "metadata": {
    "collapsed": false,
    "pycharm": {
     "name": "#%%\n",
     "is_executing": true
    }
   }
  },
  {
   "cell_type": "code",
   "execution_count": null,
   "outputs": [],
   "source": [
    "compute_avg_precision(GT_PATH, GT_PATH, dropout_predictions, {\"prob\": 0.5})"
   ],
   "metadata": {
    "collapsed": false,
    "pycharm": {
     "name": "#%%\n",
     "is_executing": true
    }
   }
  },
  {
   "cell_type": "code",
   "execution_count": null,
   "outputs": [],
   "source": [
    "# Separate annotations by frames. We do not care about the classes for the time\n",
    "# being, we only grab cars\n",
    "\n",
    "annotations = {}\n",
    "\n",
    "for track in dataset.findall(\"track\"):\n",
    "    if track[\"label\"] == \"car\":\n",
    "        for box in track.findall(\"box\"):\n",
    "            frame = box[\"frame\"]\n",
    "            coords = (box[\"xtl\"], box[\"ytl\"], box[\"xbr\"], box[\"ybr\"])\n",
    "\n",
    "            if frame not in annotations.keys():\n",
    "                annotations[frame] = []\n",
    "            annotations[frame].append(coords)"
   ],
   "metadata": {
    "collapsed": false,
    "pycharm": {
     "name": "#%%\n",
     "is_executing": true
    }
   }
  }
 ],
 "metadata": {
  "kernelspec": {
   "name": "python3",
   "language": "python",
   "display_name": "Python 3 (ipykernel)"
  },
  "language_info": {
   "codemirror_mode": {
    "name": "ipython",
    "version": 2
   },
   "file_extension": ".py",
   "mimetype": "text/x-python",
   "name": "python",
   "nbconvert_exporter": "python",
   "pygments_lexer": "ipython2",
   "version": "2.7.6"
  }
 },
 "nbformat": 4,
 "nbformat_minor": 0
}